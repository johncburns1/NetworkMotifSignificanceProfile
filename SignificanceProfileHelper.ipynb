{
 "cells": [
  {
   "cell_type": "code",
   "execution_count": 1,
   "metadata": {
    "collapsed": true
   },
   "outputs": [],
   "source": [
    "import networkx as nx\n",
    "import matplotlib.pyplot as plt\n",
    "%matplotlib inline\n",
    "import random\n",
    "import numpy as np\n",
    "import scipy.stats as st"
   ]
  },
  {
   "cell_type": "code",
   "execution_count": 17,
   "metadata": {
    "collapsed": true
   },
   "outputs": [],
   "source": [
    "def getFullProfile(graph, N):\n",
    "    \n",
    "    sigProfile = []\n",
    "    zScores = getAllZScores(graph, N)\n",
    "    alt = [x for x in zScores if x != 0]\n",
    "    zSum = float(np.linalg.norm(alt, ord=2))\n",
    "    n = len(zScores)\n",
    "    \n",
    "    for i in range(n):\n",
    "        sigProfile.append(float(zScores[i]/zSum)) \n",
    "    \n",
    "    return sigProfile"
   ]
  },
  {
   "cell_type": "code",
   "execution_count": 3,
   "metadata": {
    "collapsed": true
   },
   "outputs": [],
   "source": [
    "def getAllZScores(graph, N):\n",
    "    real_triads = getTriads(graph)\n",
    "    random_sample_triads = sampleMultipleRandGraphs(graph, N)\n",
    "    zScores = []\n",
    "    n = len(real_triads)\n",
    "    if(len(real_triads) == len(random_sample_triads)):\n",
    "        for i in range(n):\n",
    "            nReal = real_triads[i][1]\n",
    "            sample = random_sample_triads[i]\n",
    "            \n",
    "            mRand = float(np.mean(sample))\n",
    "            std = float(np.std(sample))\n",
    "            \n",
    "            if std != 0:\n",
    "                zScore = float((nReal-mRand)/(std))\n",
    "                zScores.append(zScore)\n",
    "            else: \n",
    "                zScores.append(float(nReal-mRand))          \n",
    "    return zScores"
   ]
  },
  {
   "cell_type": "code",
   "execution_count": 4,
   "metadata": {
    "collapsed": true
   },
   "outputs": [],
   "source": [
    "def getZScore(nReal, sample):\n",
    "    mRand = getMean(sample)\n",
    "    stdRand = getStandardDeviation(sample)\n",
    "    return (nReal - mRand)/(stdRand)"
   ]
  },
  {
   "cell_type": "code",
   "execution_count": 14,
   "metadata": {
    "collapsed": true
   },
   "outputs": [],
   "source": [
    "def getTriads(graph):\n",
    "    triads_16 = nx.triadic_census(graph)\n",
    "    triads_13 = [(x,y) for x,y in triads_16.items() if(x != '003' and x != '012' and x != '102')]\n",
    "    return triads_13"
   ]
  },
  {
   "cell_type": "code",
   "execution_count": 7,
   "metadata": {
    "collapsed": true
   },
   "outputs": [],
   "source": [
    "def generateDirectedConfigurationModel(graph):\n",
    "    in_degrees = graph.in_degree()\n",
    "    out_degrees = graph.out_degree()\n",
    "    in_degrees_list = [x[1] for x in list(in_degrees)]\n",
    "    out_degrees_list = [x[1] for x in list(out_degrees)]\n",
    "    return nx.directed_configuration_model(in_degrees_list, out_degrees_list, create_using=nx.DiGraph(), seed=random.seed())"
   ]
  },
  {
   "cell_type": "code",
   "execution_count": 8,
   "metadata": {
    "collapsed": true
   },
   "outputs": [],
   "source": [
    "def sampleRandomGraph(graph):\n",
    "    triads = []\n",
    "    g = generateDirectedConfigurationModel(graph)\n",
    "    return getTriads(g)"
   ]
  },
  {
   "cell_type": "code",
   "execution_count": 9,
   "metadata": {
    "collapsed": true
   },
   "outputs": [],
   "source": [
    "def sampleMultipleRandGraphs(graph, N):\n",
    "    triad_matrix = [[0 for x in range(N)] for y in range(13)]\n",
    "    for i in range(N):\n",
    "        triad_list = sampleRandomGraph(graph)\n",
    "        for j in range(13):\n",
    "            triad_matrix[j][i] = triad_list[j][1]\n",
    "            \n",
    "    return triad_matrix"
   ]
  },
  {
   "cell_type": "code",
   "execution_count": 12,
   "metadata": {
    "collapsed": true
   },
   "outputs": [],
   "source": [
    "def getTriadGraphs():\n",
    "    triad_motifs = []\n",
    "\n",
    "    for i in range(13):\n",
    "    \n",
    "        if(i == 0):\n",
    "            triad_motifs.append(nx.triad_graph(\"021D\"))\n",
    "        if(i == 1):\n",
    "            triad_motifs.append(nx.triad_graph(\"021U\"))\n",
    "        if(i == 2):\n",
    "            triad_motifs.append(nx.triad_graph(\"021C\"))\n",
    "        if(i == 3):\n",
    "            triad_motifs.append(nx.triad_graph(\"111D\"))\n",
    "        if(i == 4):\n",
    "            triad_motifs.append(nx.triad_graph(\"111U\"))\n",
    "        if(i == 5):\n",
    "            triad_motifs.append(nx.triad_graph(\"030T\"))\n",
    "        if(i == 6):\n",
    "            triad_motifs.append(nx.triad_graph(\"030C\"))\n",
    "        if(i == 7):\n",
    "            triad_motifs.append(nx.triad_graph(\"201\"))\n",
    "        if(i == 8):\n",
    "            triad_motifs.append(nx.triad_graph(\"120D\"))\n",
    "        if(i == 9):\n",
    "            triad_motifs.append(nx.triad_graph(\"120U\"))\n",
    "        if(i == 10):\n",
    "            triad_motifs.append(nx.triad_graph(\"120C\"))\n",
    "        if(i == 11):\n",
    "            triad_motifs.append(nx.triad_graph(\"210\"))\n",
    "        if(i == 12):\n",
    "            triad_motifs.append(nx.triad_graph(\"300\"))\n",
    "            \n",
    "    return triad_motifs"
   ]
  },
  {
   "cell_type": "code",
   "execution_count": 13,
   "metadata": {
    "collapsed": true
   },
   "outputs": [],
   "source": [
    "def make_ring(N):\n",
    "    graph = nx.DiGraph()\n",
    "    for i in range(N):\n",
    "        graph.add_node(i)\n",
    "    \n",
    "    for i in range(N):\n",
    "        k = random.choice(list(graph.nodes()))\n",
    "        j = random.choice(list(graph.nodes()))\n",
    "        while((k, j) in list(graph.edges) or k == j):\n",
    "            j = random.choice(list(graph.nodes()))\n",
    "            k = random.choice(list(graph.nodes()))\n",
    "        graph.add_edge(k, j)\n",
    "    \n",
    "    return graph"
   ]
  },
  {
   "cell_type": "code",
   "execution_count": null,
   "metadata": {
    "collapsed": true
   },
   "outputs": [],
   "source": []
  }
 ],
 "metadata": {
  "kernelspec": {
   "display_name": "Python 3",
   "language": "python",
   "name": "python3"
  },
  "language_info": {
   "codemirror_mode": {
    "name": "ipython",
    "version": 3
   },
   "file_extension": ".py",
   "mimetype": "text/x-python",
   "name": "python",
   "nbconvert_exporter": "python",
   "pygments_lexer": "ipython3",
   "version": "3.6.3"
  }
 },
 "nbformat": 4,
 "nbformat_minor": 2
}
